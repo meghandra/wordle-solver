{
  "nbformat": 4,
  "nbformat_minor": 0,
  "metadata": {
    "colab": {
      "provenance": []
    },
    "kernelspec": {
      "name": "python3",
      "display_name": "Python 3"
    },
    "language_info": {
      "name": "python"
    }
  },
  "cells": [
    {
      "cell_type": "code",
      "execution_count": 6,
      "metadata": {
        "id": "Zm7HzY7RVejl",
        "colab": {
          "base_uri": "https://localhost:8080/",
          "height": 428
        },
        "outputId": "6a1077ac-128a-4bf8-b66a-093d558d64bd"
      },
      "outputs": [
        {
          "output_type": "stream",
          "name": "stdout",
          "text": [
            "Mounted at /content/drive/\n"
          ]
        },
        {
          "output_type": "error",
          "ename": "ModuleNotFoundError",
          "evalue": "No module named 'utils'",
          "traceback": [
            "\u001b[0;31m---------------------------------------------------------------------------\u001b[0m",
            "\u001b[0;31mModuleNotFoundError\u001b[0m                       Traceback (most recent call last)",
            "\u001b[0;32m<ipython-input-6-75dc2135e7e9>\u001b[0m in \u001b[0;36m<cell line: 5>\u001b[0;34m()\u001b[0m\n\u001b[1;32m      3\u001b[0m \u001b[0mdrive\u001b[0m\u001b[0;34m.\u001b[0m\u001b[0mmount\u001b[0m\u001b[0;34m(\u001b[0m\u001b[0;34m'/content/drive/'\u001b[0m\u001b[0;34m,\u001b[0m \u001b[0mforce_remount\u001b[0m \u001b[0;34m=\u001b[0m \u001b[0;32mTrue\u001b[0m\u001b[0;34m)\u001b[0m\u001b[0;34m\u001b[0m\u001b[0;34m\u001b[0m\u001b[0m\n\u001b[1;32m      4\u001b[0m \u001b[0msys\u001b[0m\u001b[0;34m.\u001b[0m\u001b[0mpath\u001b[0m\u001b[0;34m.\u001b[0m\u001b[0mappend\u001b[0m\u001b[0;34m(\u001b[0m\u001b[0;34m'/content/drive/MyDrive/wordle'\u001b[0m\u001b[0;34m)\u001b[0m\u001b[0;34m\u001b[0m\u001b[0;34m\u001b[0m\u001b[0m\n\u001b[0;32m----> 5\u001b[0;31m \u001b[0;32mfrom\u001b[0m \u001b[0mutils\u001b[0m \u001b[0;32mimport\u001b[0m \u001b[0;34m*\u001b[0m\u001b[0;34m\u001b[0m\u001b[0;34m\u001b[0m\u001b[0m\n\u001b[0m",
            "\u001b[0;31mModuleNotFoundError\u001b[0m: No module named 'utils'",
            "",
            "\u001b[0;31m---------------------------------------------------------------------------\u001b[0;32m\nNOTE: If your import is failing due to a missing package, you can\nmanually install dependencies using either !pip or !apt.\n\nTo view examples of installing some common dependencies, click the\n\"Open Examples\" button below.\n\u001b[0;31m---------------------------------------------------------------------------\u001b[0m\n"
          ],
          "errorDetails": {
            "actions": [
              {
                "action": "open_url",
                "actionText": "Open Examples",
                "url": "/notebooks/snippets/importing_libraries.ipynb"
              }
            ]
          }
        }
      ],
      "source": [
        "from google.colab import drive\n",
        "import sys\n",
        "drive.mount('/content/drive/', force_remount = True)\n",
        "sys.path.append('/content/drive/MyDrive/wordle')\n",
        "from utils import *"
      ]
    },
    {
      "cell_type": "code",
      "source": [
        "!pip show utils"
      ],
      "metadata": {
        "colab": {
          "base_uri": "https://localhost:8080/"
        },
        "id": "363MqmwzBMyd",
        "outputId": "ebe0ae43-9f5e-4955-e22c-08552b6d7e06"
      },
      "execution_count": 7,
      "outputs": [
        {
          "output_type": "stream",
          "name": "stdout",
          "text": [
            "\u001b[33mWARNING: Package(s) not found: utils\u001b[0m\u001b[33m\n",
            "\u001b[0m"
          ]
        }
      ]
    },
    {
      "cell_type": "code",
      "source": [
        "import random\n",
        "import requests\n",
        "\n",
        "class Wordle:\n",
        "    def __init__(self):\n",
        "        self.words = []\n",
        "        response = requests.get('https://raw.githubusercontent.com/charlesreid1/five-letter-words/master/sgb-words.txt')\n",
        "        data = response.text\n",
        "        lines = data.strip().split('\\n')\n",
        "        for line in lines:\n",
        "            self.words.append(line)\n",
        "\n",
        "\n",
        "        self.WORD = random.choice(self.words)\n",
        "        self.guesses = []\n",
        "        self.feedbacks = []\n",
        "\n",
        "    def feedback(self, guessword):\n",
        "        feedback = []\n",
        "        for i,letter in enumerate(guessword):\n",
        "            if letter not in self.WORD:\n",
        "                feedback.append(0)\n",
        "            else:\n",
        "                if letter == self.WORD[i]:\n",
        "                    feedback.append(1)\n",
        "                else:\n",
        "                    feedback.append(2)\n",
        "\n",
        "        return feedback\n",
        "\n",
        "    def generate_guess(self, feedback = None):\n",
        "        raise NotImplementedError(\"Implement the generate_guess() function first.\")\n",
        "        return \"\"\n",
        "\n",
        "    def run(self):\n",
        "        feedback = None\n",
        "        flag = False\n",
        "        self.scores = []\n",
        "        for l in range(len(self.words)):\n",
        "          self.scores.append(0)\n",
        "\n",
        "        for i in range(10):\n",
        "            guessword = self.generate_guess(feedback)\n",
        "            feedback = self.feedback(guessword)\n",
        "            self.feedbacks.append(feedback)\n",
        "            self.guesses.append(guessword)\n",
        "\n",
        "            print(\"\\tGuess #\", i+1, \"\\t:\", guessword, \"\\tFeedback: \", feedback)\n",
        "\n",
        "            if guessword == self.WORD:\n",
        "                flag = True\n",
        "                print(\"\\t\\nSuccess.\\tCorrect word: \",guessword, \"\\tNumber of guesses: \", len(self.feedbacks))\n",
        "                break\n",
        "\n",
        "        if not flag:\n",
        "            print(\"\\tFailed to find correct word within 10 guesses. \\t Correct word: \", self.WORD)\n",
        "\n",
        "        print('\\n')\n",
        "\n",
        "\n",
        "class Game:\n",
        "    def __init__(self, Solver, N=10):\n",
        "        self.Solver = Solver\n",
        "        self.N = N\n",
        "\n",
        "    def run(self):\n",
        "        print(\"Simulating for \", self.N, \" words.\\n\")\n",
        "        for i in range(self.N):\n",
        "            solver = self.Solver()\n",
        "            print(\"WORD #[\", i+1, \"/\", self.N, \"]\")\n",
        "            solver.run()"
      ],
      "metadata": {
        "id": "eceVWWn5Vvmb"
      },
      "execution_count": null,
      "outputs": []
    },
    {
      "cell_type": "code",
      "source": [
        "class Solver(Wordle):\n",
        "    def __init__(self):\n",
        "        super().__init__()\n",
        "\n",
        "    def generate_guess(self, feedback=None):\n",
        "        if(feedback ==None):\n",
        "          guess = \"plant\"\n",
        "          f = self.feedback(guess)\n",
        "        else:\n",
        "          guess = random.choice(self.words)\n",
        "        while(len(self.guesses)>0 and guess in self.guesses):\n",
        "          windex = self.words.index(guess)\n",
        "          self.scores[windex]-=10\n",
        "          guess = self.words[self.scores.index(max(self.scores))]\n",
        "        f = self.feedback(guess)\n",
        "        k = 0\n",
        "        for j in f:\n",
        "          letter = guess[k]\n",
        "          if(j==0):\n",
        "            for w in self.words:\n",
        "              if(letter in w):\n",
        "                self.words.remove(w)\n",
        "          if(j==1):\n",
        "            for w in self.words:\n",
        "              if(letter!=w[k] or letter not in w):\n",
        "                self.words.remove(w)\n",
        "\n",
        "          if(j==2):\n",
        "            for w in self.words:\n",
        "              if(letter==w[k] or letter not in w):\n",
        "                self.words.remove(w)\n",
        "          k+=1\n",
        "          k = k%5\n",
        "\n",
        "\n",
        "          if(k>4):\n",
        "            break\n",
        "        \"\"\"\n",
        "        Your code goes here\n",
        "        \"\"\"\n",
        "\n",
        "        return guess"
      ],
      "metadata": {
        "id": "yhZnUdqmXXSu"
      },
      "execution_count": null,
      "outputs": []
    },
    {
      "cell_type": "code",
      "source": [
        "#just added strip in line 9 so that last line is taken care of oterwise it generates index error"
      ],
      "metadata": {
        "id": "hZoWWkz9hrj0"
      },
      "execution_count": null,
      "outputs": []
    },
    {
      "cell_type": "code",
      "source": [
        "game = Game(Solver, N=10)\n",
        "#game.run()\n",
        "print(len(game.Solver.words()))"
      ],
      "metadata": {
        "colab": {
          "base_uri": "https://localhost:8080/",
          "height": 243
        },
        "id": "9uPMh_wkXcX2",
        "outputId": "ef3f870d-1e52-43bf-dab4-7118e30b41a1"
      },
      "execution_count": null,
      "outputs": [
        {
          "output_type": "error",
          "ename": "AttributeError",
          "evalue": "ignored",
          "traceback": [
            "\u001b[0;31m---------------------------------------------------------------------------\u001b[0m",
            "\u001b[0;31mAttributeError\u001b[0m                            Traceback (most recent call last)",
            "\u001b[0;32m<ipython-input-12-b6b519724e0c>\u001b[0m in \u001b[0;36m<cell line: 3>\u001b[0;34m()\u001b[0m\n\u001b[1;32m      1\u001b[0m \u001b[0mgame\u001b[0m \u001b[0;34m=\u001b[0m \u001b[0mGame\u001b[0m\u001b[0;34m(\u001b[0m\u001b[0mSolver\u001b[0m\u001b[0;34m,\u001b[0m \u001b[0mN\u001b[0m\u001b[0;34m=\u001b[0m\u001b[0;36m10\u001b[0m\u001b[0;34m)\u001b[0m\u001b[0;34m\u001b[0m\u001b[0;34m\u001b[0m\u001b[0m\n\u001b[1;32m      2\u001b[0m \u001b[0;31m#game.run()\u001b[0m\u001b[0;34m\u001b[0m\u001b[0;34m\u001b[0m\u001b[0m\n\u001b[0;32m----> 3\u001b[0;31m \u001b[0mprint\u001b[0m\u001b[0;34m(\u001b[0m\u001b[0mlen\u001b[0m\u001b[0;34m(\u001b[0m\u001b[0mgame\u001b[0m\u001b[0;34m.\u001b[0m\u001b[0mSolver\u001b[0m\u001b[0;34m.\u001b[0m\u001b[0mwords\u001b[0m\u001b[0;34m(\u001b[0m\u001b[0;34m)\u001b[0m\u001b[0;34m)\u001b[0m\u001b[0;34m)\u001b[0m\u001b[0;34m\u001b[0m\u001b[0;34m\u001b[0m\u001b[0m\n\u001b[0m",
            "\u001b[0;31mAttributeError\u001b[0m: type object 'Solver' has no attribute 'words'"
          ]
        }
      ]
    },
    {
      "cell_type": "code",
      "source": [],
      "metadata": {
        "id": "-NQgvQ0HdAb_"
      },
      "execution_count": null,
      "outputs": []
    }
  ]
}